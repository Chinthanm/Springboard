{
 "cells": [
  {
   "cell_type": "markdown",
   "metadata": {},
   "source": [
    "# Examining Racial Discrimination in the US Job Market\n",
    "\n",
    "### Background\n",
    "Racial discrimination continues to be pervasive in cultures throughout the world. Researchers examined the level of racial discrimination in the United States labor market by randomly assigning identical résumés to black-sounding or white-sounding names and observing the impact on requests for interviews from employers.\n",
    "\n",
    "### Data\n",
    "In the dataset provided, each row represents a resume. The 'race' column has two values, 'b' and 'w', indicating black-sounding and white-sounding. The column 'call' has two values, 1 and 0, indicating whether the resume received a call from employers or not.\n",
    "\n",
    "Note that the 'b' and 'w' values in race are assigned randomly to the resumes when presented to the employer."
   ]
  },
  {
   "cell_type": "markdown",
   "metadata": {},
   "source": [
    "### Exercises\n",
    "You will perform a statistical analysis to establish whether race has a significant impact on the rate of callbacks for resumes.\n",
    "\n",
    "Answer the following questions **in this notebook below and submit to your Github account**. \n",
    "\n",
    "   1. What test is appropriate for this problem? Does CLT apply?\n",
    "   2. What are the null and alternate hypotheses?\n",
    "   3. Compute margin of error, confidence interval, and p-value. Try using both the bootstrapping and the frequentist statistical approaches.\n",
    "   4. Write a story describing the statistical significance in the context or the original problem.\n",
    "   5. Does your analysis mean that race/name is the most important factor in callback success? Why or why not? If not, how would you amend your analysis?\n",
    "\n",
    "You can include written notes in notebook cells using Markdown: \n",
    "   - In the control panel at the top, choose Cell > Cell Type > Markdown\n",
    "   - Markdown syntax: http://nestacms.com/docs/creating-content/markdown-cheat-sheet\n",
    "\n",
    "#### Resources\n",
    "+ Experiment information and data source: http://www.povertyactionlab.org/evaluation/discrimination-job-market-united-states\n",
    "+ Scipy statistical methods: http://docs.scipy.org/doc/scipy/reference/stats.html \n",
    "+ Markdown syntax: http://nestacms.com/docs/creating-content/markdown-cheat-sheet\n",
    "+ Formulas for the Bernoulli distribution: https://en.wikipedia.org/wiki/Bernoulli_distribution"
   ]
  },
  {
   "cell_type": "code",
   "execution_count": 169,
   "metadata": {},
   "outputs": [],
   "source": [
    "import pandas as pd\n",
    "import matplotlib.pyplot as plt\n",
    "import numpy as np\n",
    "from scipy import stats\n",
    "\n",
    "SEED = 42"
   ]
  },
  {
   "cell_type": "code",
   "execution_count": 170,
   "metadata": {},
   "outputs": [],
   "source": [
    "data = pd.io.stata.read_stata('data/us_job_market_discrimination.dta')"
   ]
  },
  {
   "cell_type": "code",
   "execution_count": 171,
   "metadata": {},
   "outputs": [
    {
     "data": {
      "text/plain": [
       "235.0"
      ]
     },
     "execution_count": 171,
     "metadata": {},
     "output_type": "execute_result"
    }
   ],
   "source": [
    "# number of callbacks for black-sounding names\n",
    "sum(data[data.race=='w'].call)"
   ]
  },
  {
   "cell_type": "code",
   "execution_count": 172,
   "metadata": {},
   "outputs": [
    {
     "data": {
      "text/html": [
       "<div>\n",
       "<style scoped>\n",
       "    .dataframe tbody tr th:only-of-type {\n",
       "        vertical-align: middle;\n",
       "    }\n",
       "\n",
       "    .dataframe tbody tr th {\n",
       "        vertical-align: top;\n",
       "    }\n",
       "\n",
       "    .dataframe thead th {\n",
       "        text-align: right;\n",
       "    }\n",
       "</style>\n",
       "<table border=\"1\" class=\"dataframe\">\n",
       "  <thead>\n",
       "    <tr style=\"text-align: right;\">\n",
       "      <th></th>\n",
       "      <th>id</th>\n",
       "      <th>ad</th>\n",
       "      <th>education</th>\n",
       "      <th>ofjobs</th>\n",
       "      <th>yearsexp</th>\n",
       "      <th>honors</th>\n",
       "      <th>volunteer</th>\n",
       "      <th>military</th>\n",
       "      <th>empholes</th>\n",
       "      <th>occupspecific</th>\n",
       "      <th>...</th>\n",
       "      <th>compreq</th>\n",
       "      <th>orgreq</th>\n",
       "      <th>manuf</th>\n",
       "      <th>transcom</th>\n",
       "      <th>bankreal</th>\n",
       "      <th>trade</th>\n",
       "      <th>busservice</th>\n",
       "      <th>othservice</th>\n",
       "      <th>missind</th>\n",
       "      <th>ownership</th>\n",
       "    </tr>\n",
       "  </thead>\n",
       "  <tbody>\n",
       "    <tr>\n",
       "      <th>0</th>\n",
       "      <td>b</td>\n",
       "      <td>1</td>\n",
       "      <td>4</td>\n",
       "      <td>2</td>\n",
       "      <td>6</td>\n",
       "      <td>0</td>\n",
       "      <td>0</td>\n",
       "      <td>0</td>\n",
       "      <td>1</td>\n",
       "      <td>17</td>\n",
       "      <td>...</td>\n",
       "      <td>1.0</td>\n",
       "      <td>0.0</td>\n",
       "      <td>1.0</td>\n",
       "      <td>0.0</td>\n",
       "      <td>0.0</td>\n",
       "      <td>0.0</td>\n",
       "      <td>0.0</td>\n",
       "      <td>0.0</td>\n",
       "      <td>0.0</td>\n",
       "      <td></td>\n",
       "    </tr>\n",
       "    <tr>\n",
       "      <th>1</th>\n",
       "      <td>b</td>\n",
       "      <td>1</td>\n",
       "      <td>3</td>\n",
       "      <td>3</td>\n",
       "      <td>6</td>\n",
       "      <td>0</td>\n",
       "      <td>1</td>\n",
       "      <td>1</td>\n",
       "      <td>0</td>\n",
       "      <td>316</td>\n",
       "      <td>...</td>\n",
       "      <td>1.0</td>\n",
       "      <td>0.0</td>\n",
       "      <td>1.0</td>\n",
       "      <td>0.0</td>\n",
       "      <td>0.0</td>\n",
       "      <td>0.0</td>\n",
       "      <td>0.0</td>\n",
       "      <td>0.0</td>\n",
       "      <td>0.0</td>\n",
       "      <td></td>\n",
       "    </tr>\n",
       "    <tr>\n",
       "      <th>2</th>\n",
       "      <td>b</td>\n",
       "      <td>1</td>\n",
       "      <td>4</td>\n",
       "      <td>1</td>\n",
       "      <td>6</td>\n",
       "      <td>0</td>\n",
       "      <td>0</td>\n",
       "      <td>0</td>\n",
       "      <td>0</td>\n",
       "      <td>19</td>\n",
       "      <td>...</td>\n",
       "      <td>1.0</td>\n",
       "      <td>0.0</td>\n",
       "      <td>1.0</td>\n",
       "      <td>0.0</td>\n",
       "      <td>0.0</td>\n",
       "      <td>0.0</td>\n",
       "      <td>0.0</td>\n",
       "      <td>0.0</td>\n",
       "      <td>0.0</td>\n",
       "      <td></td>\n",
       "    </tr>\n",
       "    <tr>\n",
       "      <th>3</th>\n",
       "      <td>b</td>\n",
       "      <td>1</td>\n",
       "      <td>3</td>\n",
       "      <td>4</td>\n",
       "      <td>6</td>\n",
       "      <td>0</td>\n",
       "      <td>1</td>\n",
       "      <td>0</td>\n",
       "      <td>1</td>\n",
       "      <td>313</td>\n",
       "      <td>...</td>\n",
       "      <td>1.0</td>\n",
       "      <td>0.0</td>\n",
       "      <td>1.0</td>\n",
       "      <td>0.0</td>\n",
       "      <td>0.0</td>\n",
       "      <td>0.0</td>\n",
       "      <td>0.0</td>\n",
       "      <td>0.0</td>\n",
       "      <td>0.0</td>\n",
       "      <td></td>\n",
       "    </tr>\n",
       "    <tr>\n",
       "      <th>4</th>\n",
       "      <td>b</td>\n",
       "      <td>1</td>\n",
       "      <td>3</td>\n",
       "      <td>3</td>\n",
       "      <td>22</td>\n",
       "      <td>0</td>\n",
       "      <td>0</td>\n",
       "      <td>0</td>\n",
       "      <td>0</td>\n",
       "      <td>313</td>\n",
       "      <td>...</td>\n",
       "      <td>1.0</td>\n",
       "      <td>1.0</td>\n",
       "      <td>0.0</td>\n",
       "      <td>0.0</td>\n",
       "      <td>0.0</td>\n",
       "      <td>0.0</td>\n",
       "      <td>0.0</td>\n",
       "      <td>1.0</td>\n",
       "      <td>0.0</td>\n",
       "      <td>Nonprofit</td>\n",
       "    </tr>\n",
       "  </tbody>\n",
       "</table>\n",
       "<p>5 rows × 65 columns</p>\n",
       "</div>"
      ],
      "text/plain": [
       "  id ad  education  ofjobs  yearsexp  honors  volunteer  military  empholes  \\\n",
       "0  b  1          4       2         6       0          0         0         1   \n",
       "1  b  1          3       3         6       0          1         1         0   \n",
       "2  b  1          4       1         6       0          0         0         0   \n",
       "3  b  1          3       4         6       0          1         0         1   \n",
       "4  b  1          3       3        22       0          0         0         0   \n",
       "\n",
       "   occupspecific  ...  compreq  orgreq  manuf  transcom  bankreal trade  \\\n",
       "0             17  ...      1.0     0.0    1.0       0.0       0.0   0.0   \n",
       "1            316  ...      1.0     0.0    1.0       0.0       0.0   0.0   \n",
       "2             19  ...      1.0     0.0    1.0       0.0       0.0   0.0   \n",
       "3            313  ...      1.0     0.0    1.0       0.0       0.0   0.0   \n",
       "4            313  ...      1.0     1.0    0.0       0.0       0.0   0.0   \n",
       "\n",
       "  busservice othservice  missind  ownership  \n",
       "0        0.0        0.0      0.0             \n",
       "1        0.0        0.0      0.0             \n",
       "2        0.0        0.0      0.0             \n",
       "3        0.0        0.0      0.0             \n",
       "4        0.0        1.0      0.0  Nonprofit  \n",
       "\n",
       "[5 rows x 65 columns]"
      ]
     },
     "execution_count": 172,
     "metadata": {},
     "output_type": "execute_result"
    }
   ],
   "source": [
    "data.head()"
   ]
  },
  {
   "cell_type": "markdown",
   "metadata": {
    "collapsed": true
   },
   "source": [
    "<div class=\"span5 alert alert-success\">\n",
    "<p>Your answers to Q1 and Q2 here</p>\n",
    "</div>\n",
    "\n",
    "### 1. What test is appropriate for this problem? Does CLT apply?\n",
    "A two sample significance test is the appropritate choice for this problem as we wish to test if there is a significant difference between the callback proportion of the two groups.\n",
    "Yes, CLT applies because the distribution can be approximated as normal (because sample size > 30) and the observations can be considered independent because the sample size is less than 10% of the population size.\n",
    "### 2. What are the null and alternate hypotheses?\n",
    "<p>$H_0:$ The proportion of black and white labeled resumes that recieve a callback are equal $(p_b = p_w)$</p>\n",
    "<p>$H_a:$ The proportion of black and white labeled resumes that recieve a callback are not equal $(p_b \\neq p_w)$</p>"
   ]
  },
  {
   "cell_type": "code",
   "execution_count": 173,
   "metadata": {},
   "outputs": [],
   "source": [
    "w = data[data.race=='w']\n",
    "b = data[data.race=='b']"
   ]
  },
  {
   "cell_type": "markdown",
   "metadata": {},
   "source": [
    "### 3. Compute margin of error, confidence interval, and p-value. Try using both the bootstrapping and the frequentist statistical approaches.\n",
    "#### Bootstrapping Approach"
   ]
  },
  {
   "cell_type": "code",
   "execution_count": 174,
   "metadata": {},
   "outputs": [
    {
     "data": {
      "image/png": "[encoded data removed]",
      "text/plain": [
       "<Figure size 432x288 with 1 Axes>"
      ]
     },
     "metadata": {
      "needs_background": "light"
     },
     "output_type": "display_data"
    },
    {
     "name": "stdout",
     "output_type": "stream",
     "text": [
      "Margin of error:  0.015\n",
      "95 % confidence interval:  [-0.01519509  0.01519505]\n",
      "P-value:  0.0\n"
     ]
    }
   ],
   "source": [
    "# Your solution to Q3 here\n",
    "np.random.seed(SEED)\n",
    "\n",
    "w_calls = np.array(w['call'])\n",
    "b_calls = np.array(b['call'])\n",
    "\n",
    "p_w = (sum(w_calls) / len(w_calls))\n",
    "p_b = (sum(b_calls) / len(b_calls))\n",
    "empirical_diff = p_w - p_b\n",
    "\n",
    "calls_concat = np.concatenate((w_calls, b_calls))\n",
    "\n",
    "w_calls_shifted = w_calls + (np.mean(calls_concat) - np.mean(w_calls))\n",
    "b_calls_shifted = b_calls + (np.mean(calls_concat) - np.mean(b_calls))\n",
    "\n",
    "def draw_bs_samples(data, func, size = 1):\n",
    "    sample_size = len(data)\n",
    "    replicates = np.empty(size)\n",
    "    \n",
    "    for i in range(size):\n",
    "        sample = np.random.choice(data, sample_size)\n",
    "        replicates[i] = func(sample)\n",
    "\n",
    "    return replicates\n",
    "    \n",
    "def ecdf(data):\n",
    "    x = np.sort(data)\n",
    "    y = np.arange(1.0, len(data) + 1.0) / len(data)\n",
    "    \n",
    "    return x, y\n",
    "    \n",
    "w_replicates = draw_bs_samples(w_calls_shifted, np.mean, 10000)\n",
    "b_replicates = draw_bs_samples(b_calls_shifted, np.mean, 10000)\n",
    "\n",
    "replicates = w_replicates - b_replicates\n",
    "x, y = ecdf(replicates)\n",
    "\n",
    "# margin of error = critical value * standard error of the statistic (i.e. proportion)\n",
    "margin_bs = 1.96 * np.std(replicates)\n",
    "\n",
    "# 95% confidence interval = the window in which the 2.5th to 97.5th percentile of bootsrap sample proportions lie\n",
    "confidence_interval_bs = np.percentile(replicates, [2.5, 97.5])\n",
    "\n",
    "# p-value = probability that a simulated bootstrap sample has a sample proportion whose magnitude is greater\n",
    "# than or equal to the empirical difference\n",
    "p_val_bs = sum(abs(replicates) >= empirical_diff) / len(replicates)\n",
    "\n",
    "_ = plt.hist(replicates, density = True, bins = 50)\n",
    "_ = plt.vlines(confidence_interval_bs[0], 0, 55, colors = 'red')\n",
    "_ = plt.vlines(confidence_interval_bs[1], 0, 55, colors = 'red')\n",
    "\n",
    "_ = plt.xlabel('Population proportion')\n",
    "_ = plt.ylabel('PDF')\n",
    "_ = plt.show()\n",
    "\n",
    "print('Margin of error: ', round(margin_bs, 3))\n",
    "print('95 % confidence interval: ', confidence_interval_bs)\n",
    "print('P-value: ', round(p_val_bs, 3))"
   ]
  },
  {
   "cell_type": "markdown",
   "metadata": {},
   "source": [
    "#### Frequentist Statistical Approach"
   ]
  },
  {
   "cell_type": "code",
   "execution_count": 175,
   "metadata": {},
   "outputs": [
    {
     "data": {
      "image/png": "[encoded data removed]",
      "text/plain": [
       "<Figure size 432x288 with 1 Axes>"
      ]
     },
     "metadata": {
      "needs_background": "light"
     },
     "output_type": "display_data"
    },
    {
     "name": "stdout",
     "output_type": "stream",
     "text": [
      "Margin of error:  0.015\n",
      "95 % confidence interval:  [-0.01528191  0.01528191]\n",
      "P-value:  0.0\n"
     ]
    }
   ],
   "source": [
    "#proportion of the difference & standard error of the difference\n",
    "p_diff = p_w - p_b\n",
    "p_avg = (p_w + p_b) / 2\n",
    "std_diff = np.sqrt(2 * p_avg * (1 - p_avg) / len(w_calls))\n",
    "z_score = (p_diff - 0) / std_diff\n",
    "\n",
    "# Margin of error = critical value * standard error of the statistic (i.e. proportion)\n",
    "margin_freq = 1.96 * std_diff\n",
    "\n",
    "# Confidence interval = mean +/- margin of error\n",
    "confidence_interval_freq = np.array([-1, +1]) * margin_freq\n",
    "\n",
    "# P-value = probability that a sample will have a proportion whose magnitude is greater than or equal to the z-score\n",
    "p_val_freq = stats.norm.sf(z_score) * 2\n",
    "\n",
    "mean = 0\n",
    "x = np.linspace(mean - 3*std_diff, mean + 3*std_diff, 100)\n",
    "_ = plt.plot(x, stats.norm.pdf(x, mean, std_diff))\n",
    "_ = plt.vlines(confidence_interval_freq[0], 0, 55, colors = 'red')\n",
    "_ = plt.vlines(confidence_interval_freq[1], 0, 55, colors = 'red')\n",
    "\n",
    "_ = plt.xlabel('Population proportion')\n",
    "_ = plt.ylabel('PDF')\n",
    "_ = plt.show()\n",
    "\n",
    "print('Margin of error: ', round(margin_freq, 3))\n",
    "print('95 % confidence interval: ', confidence_interval_freq)\n",
    "print('P-value: ', round(p_val_freq, 3))"
   ]
  },
  {
   "cell_type": "markdown",
   "metadata": {},
   "source": [
    "<div class=\"span5 alert alert-success\">\n",
    "<p> Your answers to Q4 and Q5 here </p>\n",
    "</div>\n",
    "\n",
    "### 4. Write a story describing the statistical significance in the context or the original problem.\n",
    "We performed hypothesis tests using both the bootstrap method as well as the frequentists statistical method under the null hypothesis that the population proportions of resumes labeled 'w' and those labeled 'b' are equal. In other words: $p_w - p_b = 0$. However, we see that the probability of the observed $\\overline{p}_w - \\overline{p}_b (= 0.032)$ occurring under this assumption is nearly 0. Therefor, we are confident in rejecting our null hypothesis and conclude that there is a significant difference in resumes recieving callbacks based on race.\n",
    "\n",
    "### 5. Does your analysis mean that race/name is the most important factor in callback success? Why or why not? If not, how would you amend your analysis?\n",
    "We cannot conclude that race/name is the most important factor in callback success, only that it is one of the factors affecting callback success. We have not tested the significance of other factors and in order to amend this, we would have to perform similar tests for other features as well. We could also fit a logistic regression model to this data with the independent variable being callback result and the other features as dependent variables and evaluate the significance of each dependent variable.\n"
   ]
  },
  {
   "cell_type": "code",
   "execution_count": null,
   "metadata": {},
   "outputs": [],
   "source": []
  }
 ],
 "metadata": {
  "kernelspec": {
   "display_name": "Python 3",
   "language": "python",
   "name": "python3"
  },
  "language_info": {
   "codemirror_mode": {
    "name": "ipython",
    "version": 3
   },
   "file_extension": ".py",
   "mimetype": "text/x-python",
   "name": "python",
   "nbconvert_exporter": "python",
   "pygments_lexer": "ipython3",
   "version": "3.7.3"
  }
 },
 "nbformat": 4,
 "nbformat_minor": 1
}
