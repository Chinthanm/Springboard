{
 "cells": [
  {
   "cell_type": "code",
   "execution_count": 1,
   "metadata": {},
   "outputs": [],
   "source": [
    "import csv\n",
    "from collections import defaultdict\n",
    "from io import BytesIO\n",
    "from matplotlib import pyplot as plt\n",
    "import numpy as np\n",
    "import os\n",
    "import pandas as pd\n",
    "from PIL import Image\n",
    "import requests"
   ]
  },
  {
   "cell_type": "markdown",
   "metadata": {},
   "source": [
    "### Data Wrangling\n",
    "First, we start by loading our data set into a dataframe and cleaning it up. The cleaning steps taken are to take the URL of the poster image from each row and to obtain the corresponing RGB matrix for each image and store these values in the dataframe. We realize that some of these links are broken and this is accounted for by simply removing such rows that give an empty/null RGB array for an image. We also downsample the data for now to reduce run times of the code. If we later find that more data increases performance, the algorithm can easily be made to use the entire dataset. "
   ]
  },
  {
   "cell_type": "code",
   "execution_count": 2,
   "metadata": {},
   "outputs": [
    {
     "name": "stdout",
     "output_type": "stream",
     "text": [
      "Error count:  78\n"
     ]
    },
    {
     "data": {
      "text/html": [
       "<div>\n",
       "<style scoped>\n",
       "    .dataframe tbody tr th:only-of-type {\n",
       "        vertical-align: middle;\n",
       "    }\n",
       "\n",
       "    .dataframe tbody tr th {\n",
       "        vertical-align: top;\n",
       "    }\n",
       "\n",
       "    .dataframe thead th {\n",
       "        text-align: right;\n",
       "    }\n",
       "</style>\n",
       "<table border=\"1\" class=\"dataframe\">\n",
       "  <thead>\n",
       "    <tr style=\"text-align: right;\">\n",
       "      <th></th>\n",
       "      <th>dbId</th>\n",
       "      <th>Imdb Link</th>\n",
       "      <th>Title</th>\n",
       "      <th>IMDB Score</th>\n",
       "      <th>Genre</th>\n",
       "      <th>Poster</th>\n",
       "      <th>img_rgb</th>\n",
       "    </tr>\n",
       "  </thead>\n",
       "  <tbody>\n",
       "    <tr>\n",
       "      <th>0</th>\n",
       "      <td>114709</td>\n",
       "      <td>http://www.imdb.com/title/tt114709</td>\n",
       "      <td>Toy Story (1995)</td>\n",
       "      <td>8.3</td>\n",
       "      <td>Animation|Adventure|Comedy</td>\n",
       "      <td>https://images-na.ssl-images-amazon.com/images...</td>\n",
       "      <td>[[[0, 117, 190], [0, 117, 189], [4, 118, 191],...</td>\n",
       "    </tr>\n",
       "    <tr>\n",
       "      <th>1</th>\n",
       "      <td>113497</td>\n",
       "      <td>http://www.imdb.com/title/tt113497</td>\n",
       "      <td>Jumanji (1995)</td>\n",
       "      <td>6.9</td>\n",
       "      <td>Action|Adventure|Family</td>\n",
       "      <td>https://images-na.ssl-images-amazon.com/images...</td>\n",
       "      <td>[[[11, 11, 11], [9, 9, 9], [7, 7, 7], [6, 6, 6...</td>\n",
       "    </tr>\n",
       "    <tr>\n",
       "      <th>2</th>\n",
       "      <td>113228</td>\n",
       "      <td>http://www.imdb.com/title/tt113228</td>\n",
       "      <td>Grumpier Old Men (1995)</td>\n",
       "      <td>6.6</td>\n",
       "      <td>Comedy|Romance</td>\n",
       "      <td>https://images-na.ssl-images-amazon.com/images...</td>\n",
       "      <td>[[[215, 155, 129], [213, 152, 124], [211, 147,...</td>\n",
       "    </tr>\n",
       "    <tr>\n",
       "      <th>3</th>\n",
       "      <td>114885</td>\n",
       "      <td>http://www.imdb.com/title/tt114885</td>\n",
       "      <td>Waiting to Exhale (1995)</td>\n",
       "      <td>5.7</td>\n",
       "      <td>Comedy|Drama|Romance</td>\n",
       "      <td>https://images-na.ssl-images-amazon.com/images...</td>\n",
       "      <td>[[[254, 255, 248], [253, 255, 245], [250, 253,...</td>\n",
       "    </tr>\n",
       "    <tr>\n",
       "      <th>4</th>\n",
       "      <td>113041</td>\n",
       "      <td>http://www.imdb.com/title/tt113041</td>\n",
       "      <td>Father of the Bride Part II (1995)</td>\n",
       "      <td>5.9</td>\n",
       "      <td>Comedy|Family|Romance</td>\n",
       "      <td>https://images-na.ssl-images-amazon.com/images...</td>\n",
       "      <td>[[[246, 234, 208], [246, 234, 208], [245, 233,...</td>\n",
       "    </tr>\n",
       "  </tbody>\n",
       "</table>\n",
       "</div>"
      ],
      "text/plain": [
       "     dbId                           Imdb Link  \\\n",
       "0  114709  http://www.imdb.com/title/tt114709   \n",
       "1  113497  http://www.imdb.com/title/tt113497   \n",
       "2  113228  http://www.imdb.com/title/tt113228   \n",
       "3  114885  http://www.imdb.com/title/tt114885   \n",
       "4  113041  http://www.imdb.com/title/tt113041   \n",
       "\n",
       "                                Title  IMDB Score                       Genre  \\\n",
       "0                    Toy Story (1995)         8.3  Animation|Adventure|Comedy   \n",
       "1                      Jumanji (1995)         6.9     Action|Adventure|Family   \n",
       "2             Grumpier Old Men (1995)         6.6              Comedy|Romance   \n",
       "3            Waiting to Exhale (1995)         5.7        Comedy|Drama|Romance   \n",
       "4  Father of the Bride Part II (1995)         5.9       Comedy|Family|Romance   \n",
       "\n",
       "                                              Poster  \\\n",
       "0  https://images-na.ssl-images-amazon.com/images...   \n",
       "1  https://images-na.ssl-images-amazon.com/images...   \n",
       "2  https://images-na.ssl-images-amazon.com/images...   \n",
       "3  https://images-na.ssl-images-amazon.com/images...   \n",
       "4  https://images-na.ssl-images-amazon.com/images...   \n",
       "\n",
       "                                             img_rgb  \n",
       "0  [[[0, 117, 190], [0, 117, 189], [4, 118, 191],...  \n",
       "1  [[[11, 11, 11], [9, 9, 9], [7, 7, 7], [6, 6, 6...  \n",
       "2  [[[215, 155, 129], [213, 152, 124], [211, 147,...  \n",
       "3  [[[254, 255, 248], [253, 255, 245], [250, 253,...  \n",
       "4  [[[246, 234, 208], [246, 234, 208], [245, 233,...  "
      ]
     },
     "execution_count": 2,
     "metadata": {},
     "output_type": "execute_result"
    }
   ],
   "source": [
    "current_path = os.path.join('/', 'Users', 'Chinthan', 'Desktop', 'Springboard')\n",
    "FILE_LOCATION = os.path.join(current_path, 'movie-genre-from-its-poster', 'MovieGenre.csv')\n",
    "\n",
    "df = pd.read_csv(FILE_LOCATION, encoding='latin-1')\n",
    "df = df.head(1000)\n",
    "\n",
    "img_RGB = []\n",
    "err_count = 0\n",
    "\n",
    "for index, movie in df.iterrows():\n",
    "    try:\n",
    "        response = requests.get(movie['Poster'])\n",
    "        img = Image.open(BytesIO(response.content))\n",
    "        img_RGB.append(np.asarray(img))\n",
    "    except:\n",
    "        err_count += 1\n",
    "        img_RGB.append(np.nan)\n",
    "        #print('Index: ', index, '\\t', 'Cumulative Error Count: ', err_count, '\\n', movie['Title'], '\\t', movie['Poster'])\n",
    "        continue\n",
    "    \n",
    "# Ading a column to the data frame with the RGB np array of the image and removing \n",
    "# all rows that do not have an image.\n",
    "df['img_rgb'] = img_RGB\n",
    "df = df[df['img_rgb'].notnull()]\n",
    "print('Error count: ', err_count)\n",
    "df.head()"
   ]
  },
  {
   "cell_type": "markdown",
   "metadata": {},
   "source": [
    "### Interesting Statistics\n",
    "Here, we explore the data and try to see if we can find anything interesting that may be useful in solving our problem at hand. We first start by finding frequencies of each of the genres that occur in the data and print the same. Note here that the total count is not equal to our sample size because movies may be listed as being multiple genres. We find that the most frequent genres in our dataset are 'Drama', 'Comedy' and 'Romance'."
   ]
  },
  {
   "cell_type": "code",
   "execution_count": 3,
   "metadata": {},
   "outputs": [
    {
     "name": "stdout",
     "output_type": "stream",
     "text": [
      "Drama \t 539\n",
      "Comedy \t 387\n",
      "Romance \t 228\n",
      "Crime \t 165\n",
      "Action \t 134\n",
      "Adventure \t 113\n",
      "Thriller \t 106\n",
      "Family \t 87\n",
      "Mystery \t 65\n",
      "Fantasy \t 61\n",
      "Biography \t 50\n",
      "Horror \t 41\n",
      "Sci-Fi \t 39\n",
      "War \t 26\n",
      "Music \t 26\n",
      "Documentary \t 26\n",
      "Animation \t 25\n",
      "History \t 20\n",
      "Sport \t 20\n",
      "Musical \t 15\n",
      "Western \t 13\n",
      "Film-Noir \t 5\n",
      "Short \t 2\n"
     ]
    }
   ],
   "source": [
    "df = df[df['Genre'].notnull()]\n",
    "genres_counts_dict = defaultdict(int)\n",
    "genres_avg_rgb_dict = defaultdict(list)\n",
    "\n",
    "for index, row in df.iterrows():\n",
    "    img = row['img_rgb']\n",
    "    mean_rgb = 0\n",
    "\n",
    "    for i in range(268):\n",
    "        for j in range(182):\n",
    "            mean_rgb += np.sum(img[i,j])\n",
    "    \n",
    "    genres = row['Genre']\n",
    "    genre_list = genres.split('|')\n",
    "    for genre in genre_list:\n",
    "        genres_counts_dict[genre] += 1\n",
    "        genres_avg_rgb_dict[genre].append(mean_rgb/(3*268*182))\n",
    "        \n",
    "sorted_genres = [(k, genres_counts_dict[k]) for k in sorted(genres_counts_dict, key=genres_counts_dict.get, reverse=True)]\n",
    "for k,v in sorted_genres:\n",
    "    print(k, '\\t', v)\n",
    "    \n",
    "#print(genres_avg_rgb_dict.keys())"
   ]
  },
  {
   "cell_type": "markdown",
   "metadata": {},
   "source": [
    "### Exploring  Genre vs 'Lightness' \n",
    "Here, we define the 'lightness' of an image as the mean of the RGB values of all of the pixels in an image and hence this value lies between 0 and 255. Intuitively, we would expect genres such as comedy and romance to have 'lighter' (or higher mean RGB values) than 'darker' genres such as horror or thriller. We wish to test this intuition and hence plot box plots of the mean image RGB values for each genre. We find that our intuition seems to hold true as we see that genres such as horror and sci-fi do indeed have lower mean RGB values than genres such as comedy, family and romance."
   ]
  },
  {
   "cell_type": "code",
   "execution_count": 4,
   "metadata": {},
   "outputs": [
    {
     "data": {
      "image/png": "[encoded data removed]",
      "text/plain": [
       "<Figure size 1440x360 with 1 Axes>"
      ]
     },
     "metadata": {
      "needs_background": "light"
     },
     "output_type": "display_data"
    }
   ],
   "source": [
    "labels, data = genres_avg_rgb_dict.keys(), genres_avg_rgb_dict.values()\n",
    "\n",
    "plt.rcParams['figure.figsize'] = [20, 5]\n",
    "plt.boxplot(data)\n",
    "plt.xticks(range(1, len(labels) + 1), labels)\n",
    "plt.xlabel('Genre')\n",
    "plt.ylabel('Mean RGB values')\n",
    "plt.title('Average RGB of Posters by Genre')\n",
    "plt.show()"
   ]
  },
  {
   "cell_type": "code",
   "execution_count": null,
   "metadata": {},
   "outputs": [],
   "source": []
  }
 ],
 "metadata": {
  "kernelspec": {
   "display_name": "Python 3",
   "language": "python",
   "name": "python3"
  },
  "language_info": {
   "codemirror_mode": {
    "name": "ipython",
    "version": 3
   },
   "file_extension": ".py",
   "mimetype": "text/x-python",
   "name": "python",
   "nbconvert_exporter": "python",
   "pygments_lexer": "ipython3",
   "version": "3.7.3"
  }
 },
 "nbformat": 4,
 "nbformat_minor": 2
}
