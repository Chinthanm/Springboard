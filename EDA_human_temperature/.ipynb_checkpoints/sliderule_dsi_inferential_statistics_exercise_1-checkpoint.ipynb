{
 "cells": [
  {
   "cell_type": "markdown",
   "metadata": {},
   "source": [
    "# What is the True Normal Human Body Temperature? \n",
    "\n",
    "#### Background\n",
    "\n",
    "The mean normal body temperature was held to be 37$^{\\circ}$C or 98.6$^{\\circ}$F for more than 120 years since it was first conceptualized and reported by Carl Wunderlich in a famous 1868 book. But, is this value statistically correct?"
   ]
  },
  {
   "cell_type": "markdown",
   "metadata": {},
   "source": [
    "<h3>Exercises</h3>\n",
    "\n",
    "<p>In this exercise, you will analyze a dataset of human body temperatures and employ the concepts of hypothesis testing, confidence intervals, and statistical significance.</p>\n",
    "\n",
    "<p>Answer the following questions <b>in this notebook below and submit to your Github account</b>.</p> \n",
    "\n",
    "<ol>\n",
    "<li>  Is the distribution of body temperatures normal? \n",
    "    <ul>\n",
    "    <li> Although this is not a requirement for the Central Limit Theorem to hold (read the introduction on Wikipedia's page about the CLT carefully: https://en.wikipedia.org/wiki/Central_limit_theorem), it gives us some peace of mind that the population may also be normally distributed if we assume that this sample is representative of the population.\n",
    "    <li> Think about the way you're going to check for the normality of the distribution. Graphical methods are usually used first, but there are also other ways: https://en.wikipedia.org/wiki/Normality_test\n",
    "    </ul>\n",
    "<li>  Is the sample size large? Are the observations independent?\n",
    "    <ul>\n",
    "    <li> Remember that this is a condition for the Central Limit Theorem, and hence the statistical tests we are using, to apply.\n",
    "    </ul>\n",
    "<li>  Is the true population mean really 98.6 degrees F?\n",
    "    <ul>\n",
    "    <li> First, try a bootstrap hypothesis test.\n",
    "    <li> Now, let's try frequentist statistical testing. Would you use a one-sample or two-sample test? Why?\n",
    "    <li> In this situation, is it appropriate to use the $t$ or $z$ statistic? \n",
    "    <li> Now try using the other test. How is the result be different? Why?\n",
    "    </ul>\n",
    "<li>  Draw a small sample of size 10 from the data and repeat both frequentist tests. \n",
    "    <ul>\n",
    "    <li> Which one is the correct one to use? \n",
    "    <li> What do you notice? What does this tell you about the difference in application of the $t$ and $z$ statistic?\n",
    "    </ul>\n",
    "<li>  At what temperature should we consider someone's temperature to be \"abnormal\"?\n",
    "    <ul>\n",
    "    <li> As in the previous example, try calculating everything using the boostrap approach, as well as the frequentist approach.\n",
    "    <li> Start by computing the margin of error and confidence interval. When calculating the confidence interval, keep in mind that you should use the appropriate formula for one draw, and not N draws.\n",
    "    </ul>\n",
    "<li>  Is there a significant difference between males and females in normal temperature?\n",
    "    <ul>\n",
    "    <li> What testing approach did you use and why?\n",
    "    <li> Write a story with your conclusion in the context of the original problem.\n",
    "    </ul>\n",
    "</ol>\n",
    "\n",
    "You can include written notes in notebook cells using Markdown: \n",
    "   - In the control panel at the top, choose Cell > Cell Type > Markdown\n",
    "   - Markdown syntax: http://nestacms.com/docs/creating-content/markdown-cheat-sheet\n",
    "\n",
    "#### Resources\n",
    "\n",
    "+ Information and data sources: http://www.amstat.org/publications/jse/datasets/normtemp.txt, http://www.amstat.org/publications/jse/jse_data_archive.htm\n",
    "+ Markdown syntax: http://nestacms.com/docs/creating-content/markdown-cheat-sheet\n",
    "\n",
    "****"
   ]
  },
  {
   "cell_type": "markdown",
   "metadata": {},
   "source": [
    "### Necessary Imports and Global Variable Definitions"
   ]
  },
  {
   "cell_type": "code",
   "execution_count": 198,
   "metadata": {},
   "outputs": [],
   "source": [
    "%matplotlib inline\n",
    "\n",
    "import numpy as np\n",
    "import matplotlib.pyplot as plt\n",
    "import pandas as pd\n",
    "from scipy import stats\n",
    "\n",
    "SEED = 18"
   ]
  },
  {
   "cell_type": "code",
   "execution_count": 199,
   "metadata": {},
   "outputs": [
    {
     "data": {
      "text/html": [
       "<div>\n",
       "<style scoped>\n",
       "    .dataframe tbody tr th:only-of-type {\n",
       "        vertical-align: middle;\n",
       "    }\n",
       "\n",
       "    .dataframe tbody tr th {\n",
       "        vertical-align: top;\n",
       "    }\n",
       "\n",
       "    .dataframe thead th {\n",
       "        text-align: right;\n",
       "    }\n",
       "</style>\n",
       "<table border=\"1\" class=\"dataframe\">\n",
       "  <thead>\n",
       "    <tr style=\"text-align: right;\">\n",
       "      <th></th>\n",
       "      <th>temperature</th>\n",
       "      <th>gender</th>\n",
       "      <th>heart_rate</th>\n",
       "    </tr>\n",
       "  </thead>\n",
       "  <tbody>\n",
       "    <tr>\n",
       "      <th>0</th>\n",
       "      <td>99.3</td>\n",
       "      <td>F</td>\n",
       "      <td>68.0</td>\n",
       "    </tr>\n",
       "    <tr>\n",
       "      <th>1</th>\n",
       "      <td>98.4</td>\n",
       "      <td>F</td>\n",
       "      <td>81.0</td>\n",
       "    </tr>\n",
       "    <tr>\n",
       "      <th>2</th>\n",
       "      <td>97.8</td>\n",
       "      <td>M</td>\n",
       "      <td>73.0</td>\n",
       "    </tr>\n",
       "    <tr>\n",
       "      <th>3</th>\n",
       "      <td>99.2</td>\n",
       "      <td>F</td>\n",
       "      <td>66.0</td>\n",
       "    </tr>\n",
       "    <tr>\n",
       "      <th>4</th>\n",
       "      <td>98.0</td>\n",
       "      <td>F</td>\n",
       "      <td>73.0</td>\n",
       "    </tr>\n",
       "  </tbody>\n",
       "</table>\n",
       "</div>"
      ],
      "text/plain": [
       "   temperature gender  heart_rate\n",
       "0         99.3      F        68.0\n",
       "1         98.4      F        81.0\n",
       "2         97.8      M        73.0\n",
       "3         99.2      F        66.0\n",
       "4         98.0      F        73.0"
      ]
     },
     "execution_count": 199,
     "metadata": {},
     "output_type": "execute_result"
    }
   ],
   "source": [
    "df = pd.read_csv('data/human_body_temperature.csv')\n",
    "df.head()"
   ]
  },
  {
   "cell_type": "markdown",
   "metadata": {},
   "source": [
    "### 1. Is the distribution of body temperatures normal?\n",
    "<p>We first use graphical methods to visualize the 'normal nature' of the data by plotting a histogram of the sample of human body temperatures. We also plot an overlay of a PDF of a normal distribution with the same parameters as the sample.</p>"
   ]
  },
  {
   "cell_type": "code",
   "execution_count": 200,
   "metadata": {},
   "outputs": [
    {
     "data": {
      "image/png": "[encoded data removed]",
      "text/plain": [
       "<Figure size 432x288 with 1 Axes>"
      ]
     },
     "metadata": {
      "needs_background": "light"
     },
     "output_type": "display_data"
    }
   ],
   "source": [
    "temps = np.array(df['temperature'])\n",
    "mean, std = np.mean(temps), np.std(temps)\n",
    "len_temps = len(temps)\n",
    "\n",
    "_ = plt.hist(temps, normed = True)\n",
    "_ = plt.xlabel('Human Body Temperatures (F)')\n",
    "_ = plt.ylabel('PDF')\n",
    "\n",
    "x = np.linspace(mean - 3*std, mean + 3*std, 100)\n",
    "plt.plot(x, stats.norm.pdf(x, mean, std))\n",
    "_ = plt.show()"
   ]
  },
  {
   "cell_type": "markdown",
   "metadata": {},
   "source": [
    "#### Quantitative Test for Normality\n",
    "<p>We verify our graphical results by using a chi-squared test for Normality.</p>\n",
    "$$\\chi^2 = \\sum_{i = 1}^{n} \\dfrac{(O_i - E_i)^2}{E_i}$$\n",
    "<p>Where $O_i$ are the observed data points in the sample and $E_i$ are the expected values of the data points in the sample under the null hypothesis assumption.</p>\n",
    "\n",
    "<p>$H_0:$Sample is normally distributed ($E_i = \\mu_x$).</p>\n",
    "<p>$H_a:$Sample is not normally distributed. </p>"
   ]
  },
  {
   "cell_type": "code",
   "execution_count": 201,
   "metadata": {},
   "outputs": [
    {
     "data": {
      "text/plain": [
       "1.0"
      ]
     },
     "execution_count": 201,
     "metadata": {},
     "output_type": "execute_result"
    }
   ],
   "source": [
    "chi_sq = np.sum(((temps - mean) ** 2) / mean)\n",
    "deg_freedom = len_temps - 3\n",
    "p_value = 1 - stats.chi2.cdf(chi_sq, deg_freedom)\n",
    "p_value"
   ]
  },
  {
   "cell_type": "markdown",
   "metadata": {},
   "source": [
    "<p>We see above that when we perform this $\\chi^2$ test for normality, we get a p-value of nearly one, strongly suggesting that we fail to reject the null hypothesis. This implies that the distribution of body temperatures is normal.</p>"
   ]
  },
  {
   "cell_type": "markdown",
   "metadata": {},
   "source": [
    "### 2. Is the sample size large? Are the observations independent?\n",
    "<p>Yes, the sample size is 130 which is greater than 30 and hence we can use the normal approximation for the distribution of body temperatures. </p>\n",
    "<p>Yes, since the sample is taken from the population of all humans, the sample size is less than 10% of the populaation size and hence we can be confident that the observations are independent. </p>"
   ]
  },
  {
   "cell_type": "markdown",
   "metadata": {},
   "source": [
    "### 3. Is the true population mean really 98.6 degrees F?\n",
    "#### Bootstrap Hypothesis Test\n",
    "<p>We perform a bootstrap hypothesis test on our sample by drawing 1000 samples, each of the same size as our current sample (130 observations).</p>\n",
    "<p>$H_0:$ The mean of the human population's body temperature is $98.6^{\\circ}$ F. ($\\mu = 98.6^{\\circ}$)</p>\n",
    "<p>$H_a:$ The mean of the human population's body temperature is not $98.6^{\\circ}$ F. ($\\mu \\neq 98.6^{\\circ}$)</p>\n",
    "<p>We do this by randomly selecting 130 observations from our sample with replacement. We then calculate the replicates (i.e. the sample mean) of each of these 1000 samples and plot the ecdf of these replicates. From this, we arrive at the 95% confident interval for the population mean as $\\mu \\in [98.13^{\\circ} F, 98.37^{\\circ} F]$. Since $98.6^{\\circ} F$ does not fall within this range, we reject the null hypothesis and conclude that $98.6^{\\circ} F$ is not the true population mean.</p>"
   ]
  },
  {
   "cell_type": "code",
   "execution_count": 202,
   "metadata": {},
   "outputs": [
    {
     "data": {
      "image/png": "[encoded data removed]",
      "text/plain": [
       "<Figure size 432x288 with 1 Axes>"
      ]
     },
     "metadata": {
      "needs_background": "light"
     },
     "output_type": "display_data"
    },
    {
     "data": {
      "text/plain": [
       "array([98.12690385, 98.36769231])"
      ]
     },
     "execution_count": 202,
     "metadata": {},
     "output_type": "execute_result"
    }
   ],
   "source": [
    "def ecdf(data):\n",
    "    n = len(data)\n",
    "    x = np.sort(data)\n",
    "    y = np.arange(1.0, n+1.0) / n\n",
    "    \n",
    "    return x, y\n",
    "\n",
    "def draw_bs_samples(data, func, size=1):\n",
    "    replicates = np.empty(size)\n",
    "    len_data = len(data)\n",
    "    for i in range(size):\n",
    "        sample_temps = np.random.choice(data, len_data)\n",
    "        replicates[i] = func(sample_temps)\n",
    "        \n",
    "    return replicates\n",
    "\n",
    "replicate_temps = draw_bs_samples(temps, np.mean, 1000)\n",
    "\n",
    "x_theor, y_theor = ecdf(replicate_temps)\n",
    "\n",
    "_ = plt.plot(x_theor, y_theor, marker = '.', linestyle = 'none')\n",
    "_ = plt.xlabel('Human Body Temperature (F)')\n",
    "_ = plt.ylabel('CDF')\n",
    "_ = plt.show()\n",
    "\n",
    "conf_interval = np.percentile(replicate_temps, [2.5, 97.5])\n",
    "conf_interval"
   ]
  },
  {
   "cell_type": "markdown",
   "metadata": {},
   "source": [
    "#### Frequentist Statistical Testing\n",
    "<p>We use a one-sample test to estimate the population mean. The two-sample test is not necessary because it is only used to determine if the difference between two groups is significant, which is not our objective here. </p>\n",
    "<p>It is considered better practice to use a t-test over a z-test in this case because we do not know the population variance. However, since the sample size is large (>30), our distribution can be estimated as normal and the z-test will also sufficiently provide similiar results.</p>"
   ]
  },
  {
   "cell_type": "code",
   "execution_count": 203,
   "metadata": {},
   "outputs": [
    {
     "name": "stdout",
     "output_type": "stream",
     "text": [
      " t-statistic:  -5.4759252020785585 \n",
      " p-value:  2.1887464624050777e-07\n"
     ]
    }
   ],
   "source": [
    "t_stat = (mean - 98.6) / (std / np.sqrt(len_temps))\n",
    "pval_ttest = stats.t.sf(np.abs(t_stat), len_temps - 1) * 2\n",
    "\n",
    "print(' t-statistic: ', t_stat, '\\n', 'p-value: ', pval_ttest)\n",
    "\n",
    "#pval = stats.ttest_1samp(temps, 98.6)\n",
    "# Computing the t-statistic and p-value from a 2-tailed t-test using ttest_lsamp from Python's stats package. \n",
    "# (Gives the same results)"
   ]
  },
  {
   "cell_type": "code",
   "execution_count": 204,
   "metadata": {},
   "outputs": [
    {
     "name": "stdout",
     "output_type": "stream",
     "text": [
      " z-score:  -5.4759252020785585 \n",
      " p-value:  4.3523151658713056e-08\n"
     ]
    }
   ],
   "source": [
    "z_score = (mean - 98.6) / (std / np.sqrt(len_temps))\n",
    "pval_ztest = stats.norm.cdf(z_score) * 2\n",
    "\n",
    "print(' z-score: ', z_score, '\\n', 'p-value: ', pval_ztest)"
   ]
  },
  {
   "cell_type": "markdown",
   "metadata": {},
   "source": [
    "### 4. Draw a small sample of size 10 from the data and repeat both frequentist tests.\n",
    "<p>In the case of a small sample, it is better to use a t-test because we cannot accurately estimate the population variance using the sample variance and so we need to take advantage of an additional parameter, degrees of freedom, to accurately estimate the population parameter in question. We also find that the two tests do not give similar results, as expected. </p>"
   ]
  },
  {
   "cell_type": "code",
   "execution_count": 205,
   "metadata": {},
   "outputs": [
    {
     "data": {
      "text/plain": [
       "(array([96.9, 99.4, 97.7, 98.9, 97.4, 98.4, 97.1, 98. , 98.8, 98.7]), 98.13)"
      ]
     },
     "execution_count": 205,
     "metadata": {},
     "output_type": "execute_result"
    }
   ],
   "source": [
    "np.random.seed(SEED)\n",
    "inds = np.arange(len_temps)\n",
    "random_indeces = np.random.choice(inds, 10)\n",
    "temps_10_sample = temps[random_indeces]\n",
    "temps_10_sample, np.mean(temps_10_sample)"
   ]
  },
  {
   "cell_type": "code",
   "execution_count": 206,
   "metadata": {},
   "outputs": [
    {
     "name": "stdout",
     "output_type": "stream",
     "text": [
      " t-statistic:  -1.86352472867956 \n",
      " p-value:  0.09527688513526364\n"
     ]
    }
   ],
   "source": [
    "t_stat_10_sample = (np.mean(temps_10_sample) - 98.6) / (np.std(temps_10_sample) / np.sqrt(10))\n",
    "pval_ttest_10_sample = stats.t.sf(np.abs(t_stat_10_sample), len(temps_10_sample) - 1) * 2\n",
    "\n",
    "print(' t-statistic: ', t_stat_10_sample, '\\n', 'p-value: ', pval_ttest_10_sample)"
   ]
  },
  {
   "cell_type": "code",
   "execution_count": 207,
   "metadata": {},
   "outputs": [
    {
     "name": "stdout",
     "output_type": "stream",
     "text": [
      " z-score:  -2.034989621808877 \n",
      " p-value:  0.04185191724544716\n"
     ]
    }
   ],
   "source": [
    "z_score_10_sample = (np.mean(temps_10_sample) - 98.6) / (std / np.sqrt(10))\n",
    "pval_ztest_10_sample = stats.norm.cdf(z_score_10_sample) * 2\n",
    "\n",
    "print(' z-score: ', z_score_10_sample, '\\n', 'p-value: ', pval_ztest_10_sample)"
   ]
  },
  {
   "cell_type": "markdown",
   "metadata": {},
   "source": [
    "### 5. At what temperature should we consider someone's temperature to be \"abnormal\"?\n",
    "<p>We will consider that any body temperatures more than two standard deviations from the mean are considered 'abnormal'. We will use our 95% confidence intervals obtained from the bootstrapping and frequentist methods to approximate 2 standard deviations from the mean. We also visualize our results and see that</p> \n",
    "$\\text{\"abnormal body temperatures\"}  \\in (-\\infty, 98.12] \\cup [98.38, \\infty)$"
   ]
  },
  {
   "cell_type": "code",
   "execution_count": 208,
   "metadata": {},
   "outputs": [
    {
     "data": {
      "image/png": "[encoded data removed]",
      "text/plain": [
       "<Figure size 432x288 with 1 Axes>"
      ]
     },
     "metadata": {
      "needs_background": "light"
     },
     "output_type": "display_data"
    },
    {
     "name": "stdout",
     "output_type": "stream",
     "text": [
      "[98.12690385 98.36769231] [98.12249319 98.37596835]\n"
     ]
    }
   ],
   "source": [
    "crit_t_stats = stats.t.isf([0.975, 0.025], [len_temps - 1])\n",
    "margin_of_error = crit_t_stats * (std / np.sqrt(len_temps))\n",
    "confidence_interval = mean + margin_of_error\n",
    "\n",
    "_ = plt.plot(x, stats.norm.pdf(x, mean, std))\n",
    "line1 = plt.vlines(conf_interval[0], 0, 0.55, colors = 'red')\n",
    "line1 = plt.vlines(conf_interval[1], 0, 0.55, colors = 'red')\n",
    "\n",
    "_ = plt.xlim(right = 101.5)\n",
    "_ = plt.xlabel('Human Body Temperature (F)')\n",
    "_ = plt.ylabel('PDF')\n",
    "line2 = plt.vlines(confidence_interval[0], 0, 0.55, colors = 'orange')\n",
    "line2 = plt.vlines(confidence_interval[1], 0, 0.55, colors = 'orange')\n",
    "\n",
    "plt.legend((line1, line2), ('Bootstrapping method', 'Frequentist method'), loc = 'upper right')\n",
    "_ = plt.show()\n",
    "print(conf_interval, confidence_interval)"
   ]
  },
  {
   "cell_type": "markdown",
   "metadata": {},
   "source": [
    "### 6. Is there a significant difference between males and females in normal temperature?\n",
    "<p>Here, we perform a two-sample z-test to obtain a 95% confidence interval around the sample mean.</p> \n",
    "<p>$H_0:$ There is not a significant difference between males and females body temperatures $(\\mu_{X-Y} = 0)$ </p>\n",
    "<p>$H_a:$ There is a significant difference between males and females body temperatures $(\\mu_{X-Y} \\neq 0)$ </p>\n",
    "\n",
    "<p>Our 95% confidence interval we arrive at is $[-0.54, -0.04]$. Since 0 does not lie in this region, we reject our null hypothesis and conclude that there is a significant difference between males and females in body temperature. </p>"
   ]
  },
  {
   "cell_type": "code",
   "execution_count": 210,
   "metadata": {},
   "outputs": [
    {
     "data": {
      "text/plain": [
       "array([-0.53536107, -0.04310047])"
      ]
     },
     "execution_count": 210,
     "metadata": {},
     "output_type": "execute_result"
    }
   ],
   "source": [
    "male_temps = df.temperature[df.gender == 'M']\n",
    "female_temps = df.temperature[df.gender == 'F']\n",
    "\n",
    "mu_male_minus_female = np.mean(male_temps) - np.mean(female_temps)\n",
    "std_male_minus_female = np.sqrt((np.var(male_temps) / len(male_temps)) + (np.var(female_temps) / len(female_temps)))\n",
    "\n",
    "confidence_interval_male_female = mu_male_minus_female + np.array([-1, +1]) * 1.96 * std_male_minus_female\n",
    "confidence_interval_male_female"
   ]
  }
 ],
 "metadata": {
  "kernelspec": {
   "display_name": "Python 3",
   "language": "python",
   "name": "python3"
  },
  "language_info": {
   "codemirror_mode": {
    "name": "ipython",
    "version": 3
   },
   "file_extension": ".py",
   "mimetype": "text/x-python",
   "name": "python",
   "nbconvert_exporter": "python",
   "pygments_lexer": "ipython3",
   "version": "3.7.3"
  }
 },
 "nbformat": 4,
 "nbformat_minor": 1
}
